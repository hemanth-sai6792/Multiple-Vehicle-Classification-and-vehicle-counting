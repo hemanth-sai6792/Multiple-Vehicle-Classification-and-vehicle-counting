{
 "cells": [
  {
   "cell_type": "code",
   "execution_count": 1,
   "id": "1adfd880",
   "metadata": {},
   "outputs": [],
   "source": [
    "import cv2\n",
    "import csv\n",
    "import collections\n",
    "import numpy as np\n",
    "import math"
   ]
  },
  {
   "cell_type": "code",
   "execution_count": 2,
   "id": "6a15e5d4",
   "metadata": {},
   "outputs": [],
   "source": [
    "# Vehicle-Tracker\n",
    "\n",
    "class EuclideanDistTracker:\n",
    "    def __init__(self):\n",
    "        # Store the center positions of the objects\n",
    "        self.center_points = {}\n",
    "        # Keep the count of the IDs\n",
    "        # each time a new object id detected, the count will increase by one\n",
    "        self.id_count = 0\n",
    "\n",
    "\n",
    "    def update(self, objects_rect):\n",
    "        # Objects boxes and ids\n",
    "        objects_bbs_ids = []\n",
    "\n",
    "        # Get center point of new object\n",
    "        for rect in objects_rect:\n",
    "            x, y, w, h, index = rect\n",
    "            cx = (x + x + w) // 2\n",
    "            cy = (y + y + h) // 2\n",
    "\n",
    "            # Find out if that object was detected already\n",
    "            same_object_detected = False\n",
    "            for id, pt in self.center_points.items():\n",
    "                dist = math.hypot(cx - pt[0], cy - pt[1])\n",
    "\n",
    "                if dist < 25:\n",
    "                    self.center_points[id] = (cx, cy)\n",
    "                    # print(self.center_points)\n",
    "                    objects_bbs_ids.append([x, y, w, h, id, index])\n",
    "                    same_object_detected = True\n",
    "                    break\n",
    "\n",
    "            # New object is detected we assign the ID to that object\n",
    "            if same_object_detected is False:\n",
    "                self.center_points[self.id_count] = (cx, cy)\n",
    "                objects_bbs_ids.append([x, y, w, h, self.id_count, index])\n",
    "                self.id_count += 1\n",
    "\n",
    "        # Clean the dictionary by center points to remove IDS not used anymore\n",
    "        new_center_points = {}\n",
    "        for obj_bb_id in objects_bbs_ids:\n",
    "            _, _, _, _, object_id, index = obj_bb_id\n",
    "            center = self.center_points[object_id]\n",
    "            new_center_points[object_id] = center\n",
    "\n",
    "        # Update dictionary with IDs not used removed\n",
    "        self.center_points = new_center_points.copy()\n",
    "        return objects_bbs_ids\n",
    "\n"
   ]
  },
  {
   "cell_type": "code",
   "execution_count": 3,
   "id": "f8ca1074",
   "metadata": {},
   "outputs": [],
   "source": [
    "# Initialize Tracker\n",
    "tracker = EuclideanDistTracker()"
   ]
  },
  {
   "cell_type": "code",
   "execution_count": 4,
   "id": "ae14ff03",
   "metadata": {},
   "outputs": [],
   "source": [
    "# Initialize the videocapture object\n",
    "video_file = 'video1.mp4'\n",
    "cap = cv2.VideoCapture(video_file)\n",
    "input_size = 320"
   ]
  },
  {
   "cell_type": "code",
   "execution_count": 5,
   "id": "9c3bf439",
   "metadata": {},
   "outputs": [],
   "source": [
    "\n",
    "# Detection confidence threshold\n",
    "confThreshold =0.2\n",
    "nmsThreshold= 0.2\n",
    "\n",
    "font_color = (0, 0, 255)\n",
    "font_size = 0.5\n",
    "font_thickness = 2\n"
   ]
  },
  {
   "cell_type": "code",
   "execution_count": 6,
   "id": "863eef57",
   "metadata": {},
   "outputs": [],
   "source": [
    "# Middle cross line position\n",
    "middle_line_position = 225\n",
    "up_line_position = middle_line_position - 25\n",
    "down_line_position = middle_line_position + 25\n",
    "\n"
   ]
  },
  {
   "cell_type": "code",
   "execution_count": 7,
   "id": "9552be79",
   "metadata": {},
   "outputs": [
    {
     "name": "stdout",
     "output_type": "stream",
     "text": [
      "['person', 'bicycle', 'car', 'motorbike', 'aeroplane', 'bus', 'train', 'truck', 'boat', 'traffic light', 'fire hydrant', 'stop sign', 'parking meter', 'bench', 'bird', 'cat', 'dog', 'horse', 'sheep', 'cow', 'elephant', 'bear', 'zebra', 'giraffe', 'backpack', 'umbrella', 'handbag', 'tie', 'suitcase', 'frisbee', 'skis', 'snowboard', 'sports ball', 'kite', 'baseball bat', 'baseball glove', 'skateboard', 'surfboard', 'tennis racket', 'bottle', 'wine glass', 'cup', 'fork', 'knife', 'spoon', 'bowl', 'banana', 'apple', 'sandwich', 'orange', 'broccoli', 'carrot', 'hot dog', 'pizza', 'donut', 'cake', 'chair', 'sofa', 'pottedplant', 'bed', 'diningtable', 'toilet', 'tvmonitor', 'laptop', 'mouse', 'remote', 'keyboard', 'cell phone', 'microwave', 'oven', 'toaster', 'sink', 'refrigerator', 'book', 'clock', 'vase', 'scissors', 'teddy bear', 'hair drier', 'toothbrush']\n",
      "80\n"
     ]
    }
   ],
   "source": [
    "# Store Coco Names in a list\n",
    "classesFile = \"coco.names\"\n",
    "classNames = open(classesFile).read().strip().split('\\n')\n",
    "print(classNames)\n",
    "print(len(classNames))\n"
   ]
  },
  {
   "cell_type": "code",
   "execution_count": 8,
   "id": "de445b4f",
   "metadata": {},
   "outputs": [],
   "source": [
    "# class index for our required detection classes\n",
    "required_class_index = [2, 3, 5, 7]\n",
    "Total_Detected_Vehicles = {}\n",
    "detected_classNames = []\n"
   ]
  },
  {
   "cell_type": "code",
   "execution_count": 9,
   "id": "b9ec7791",
   "metadata": {},
   "outputs": [],
   "source": [
    "## Model Files\n",
    "modelConfiguration = 'yolov3-320.cfg'\n",
    "modelWeigheights = 'yolov3-320.weights'\n"
   ]
  },
  {
   "cell_type": "code",
   "execution_count": 10,
   "id": "01c1eab2",
   "metadata": {},
   "outputs": [
    {
     "name": "stdout",
     "output_type": "stream",
     "text": [
      "Network Length: 254 \n",
      "Layer Names:  ('conv_0', 'bn_0', 'leaky_1', 'conv_1', 'bn_1', 'leaky_2', 'conv_2', 'bn_2', 'leaky_3', 'conv_3', 'bn_3', 'leaky_4', 'shortcut_4', 'conv_5', 'bn_5', 'leaky_6', 'conv_6', 'bn_6', 'leaky_7', 'conv_7', 'bn_7', 'leaky_8', 'shortcut_8', 'conv_9', 'bn_9', 'leaky_10', 'conv_10', 'bn_10', 'leaky_11', 'shortcut_11', 'conv_12', 'bn_12', 'leaky_13', 'conv_13', 'bn_13', 'leaky_14', 'conv_14', 'bn_14', 'leaky_15', 'shortcut_15', 'conv_16', 'bn_16', 'leaky_17', 'conv_17', 'bn_17', 'leaky_18', 'shortcut_18', 'conv_19', 'bn_19', 'leaky_20', 'conv_20', 'bn_20', 'leaky_21', 'shortcut_21', 'conv_22', 'bn_22', 'leaky_23', 'conv_23', 'bn_23', 'leaky_24', 'shortcut_24', 'conv_25', 'bn_25', 'leaky_26', 'conv_26', 'bn_26', 'leaky_27', 'shortcut_27', 'conv_28', 'bn_28', 'leaky_29', 'conv_29', 'bn_29', 'leaky_30', 'shortcut_30', 'conv_31', 'bn_31', 'leaky_32', 'conv_32', 'bn_32', 'leaky_33', 'shortcut_33', 'conv_34', 'bn_34', 'leaky_35', 'conv_35', 'bn_35', 'leaky_36', 'shortcut_36', 'conv_37', 'bn_37', 'leaky_38', 'conv_38', 'bn_38', 'leaky_39', 'conv_39', 'bn_39', 'leaky_40', 'shortcut_40', 'conv_41', 'bn_41', 'leaky_42', 'conv_42', 'bn_42', 'leaky_43', 'shortcut_43', 'conv_44', 'bn_44', 'leaky_45', 'conv_45', 'bn_45', 'leaky_46', 'shortcut_46', 'conv_47', 'bn_47', 'leaky_48', 'conv_48', 'bn_48', 'leaky_49', 'shortcut_49', 'conv_50', 'bn_50', 'leaky_51', 'conv_51', 'bn_51', 'leaky_52', 'shortcut_52', 'conv_53', 'bn_53', 'leaky_54', 'conv_54', 'bn_54', 'leaky_55', 'shortcut_55', 'conv_56', 'bn_56', 'leaky_57', 'conv_57', 'bn_57', 'leaky_58', 'shortcut_58', 'conv_59', 'bn_59', 'leaky_60', 'conv_60', 'bn_60', 'leaky_61', 'shortcut_61', 'conv_62', 'bn_62', 'leaky_63', 'conv_63', 'bn_63', 'leaky_64', 'conv_64', 'bn_64', 'leaky_65', 'shortcut_65', 'conv_66', 'bn_66', 'leaky_67', 'conv_67', 'bn_67', 'leaky_68', 'shortcut_68', 'conv_69', 'bn_69', 'leaky_70', 'conv_70', 'bn_70', 'leaky_71', 'shortcut_71', 'conv_72', 'bn_72', 'leaky_73', 'conv_73', 'bn_73', 'leaky_74', 'shortcut_74', 'conv_75', 'bn_75', 'leaky_76', 'conv_76', 'bn_76', 'leaky_77', 'conv_77', 'bn_77', 'leaky_78', 'conv_78', 'bn_78', 'leaky_79', 'conv_79', 'bn_79', 'leaky_80', 'conv_80', 'bn_80', 'leaky_81', 'conv_81', 'permute_82', 'yolo_82', 'identity_83', 'conv_84', 'bn_84', 'leaky_85', 'upsample_85', 'concat_86', 'conv_87', 'bn_87', 'leaky_88', 'conv_88', 'bn_88', 'leaky_89', 'conv_89', 'bn_89', 'leaky_90', 'conv_90', 'bn_90', 'leaky_91', 'conv_91', 'bn_91', 'leaky_92', 'conv_92', 'bn_92', 'leaky_93', 'conv_93', 'permute_94', 'yolo_94', 'identity_95', 'conv_96', 'bn_96', 'leaky_97', 'upsample_97', 'concat_98', 'conv_99', 'bn_99', 'leaky_100', 'conv_100', 'bn_100', 'leaky_101', 'conv_101', 'bn_101', 'leaky_102', 'conv_102', 'bn_102', 'leaky_103', 'conv_103', 'bn_103', 'leaky_104', 'conv_104', 'bn_104', 'leaky_105', 'conv_105', 'permute_106', 'yolo_106')\n"
     ]
    }
   ],
   "source": [
    "\n",
    "# configure the network model\n",
    "net = cv2.dnn.readNetFromDarknet(modelConfiguration, modelWeigheights)\n",
    "layer_names = net.getLayerNames()\n",
    "print(\"Network Length:\",len(layer_names),\"\\nLayer Names: \", layer_names)\n"
   ]
  },
  {
   "cell_type": "code",
   "execution_count": 11,
   "id": "3b2ef199",
   "metadata": {},
   "outputs": [],
   "source": [
    "# Define random colour for each class\n",
    "np.random.seed(42)\n",
    "colors = np.random.randint(0, 255, size=(len(classNames), 3), dtype='uint8')\n"
   ]
  },
  {
   "cell_type": "code",
   "execution_count": 12,
   "id": "67375498",
   "metadata": {},
   "outputs": [],
   "source": [
    "# Function for finding the center of a rectangle\n",
    "def find_center(x, y, w, h):\n",
    "    x1=int(w/2)\n",
    "    y1=int(h/2)\n",
    "    cx = x+x1\n",
    "    cy=y+y1\n",
    "    return cx, cy\n",
    "    "
   ]
  },
  {
   "cell_type": "code",
   "execution_count": 13,
   "id": "bffec107",
   "metadata": {},
   "outputs": [],
   "source": [
    "# List for store vehicle count information\n",
    "temp_up_list = []\n",
    "temp_down_list = []\n",
    "up_list = [0, 0, 0, 0]\n",
    "down_list = [0, 0, 0, 0]"
   ]
  },
  {
   "cell_type": "code",
   "execution_count": 14,
   "id": "44dfd5c7",
   "metadata": {},
   "outputs": [],
   "source": [
    "# Function for count vehicle\n",
    "def count_vehicle(box_id, img):\n",
    "\n",
    "    x, y, w, h, id, index = box_id\n",
    "\n",
    "    # Find the center of the rectangle for detection\n",
    "    center = find_center(x, y, w, h)\n",
    "    ix, iy = center\n",
    "    \n",
    "    # Find the current position of the vehicle\n",
    "    if (iy > up_line_position) and (iy < middle_line_position):\n",
    "\n",
    "        if id not in temp_up_list:\n",
    "            temp_up_list.append(id)\n",
    "\n",
    "    elif iy < down_line_position and iy > middle_line_position:\n",
    "        if id not in temp_down_list:\n",
    "            temp_down_list.append(id)\n",
    "            \n",
    "    elif iy < up_line_position:\n",
    "        if id in temp_down_list:\n",
    "            temp_down_list.remove(id)\n",
    "            up_list[index] = up_list[index]+1\n",
    "\n",
    "    elif iy > down_line_position:\n",
    "        if id in temp_up_list:\n",
    "            temp_up_list.remove(id)\n",
    "            down_list[index] = down_list[index] + 1\n",
    "\n",
    "    # Draw circle in the middle of the rectangle\n",
    "    cv2.circle(img, center, 2, (0, 0, 255), -1)  # end here\n",
    "    # print(up_list, down_list)\n"
   ]
  },
  {
   "cell_type": "code",
   "execution_count": 15,
   "id": "8ed2280b",
   "metadata": {},
   "outputs": [],
   "source": [
    "# Function for finding the detected objects from the network output\n",
    "def postProcess(outputs,img):\n",
    "    global detected_classNames \n",
    "    height, width = img.shape[:2]\n",
    "    boxes = []\n",
    "    classIds = []\n",
    "    confidence_scores = []\n",
    "    detection = []\n",
    "    for output in outputs:\n",
    "        for det in output:\n",
    "            #print(len(det))\n",
    "            scores = det[5:]\n",
    "            classId = np.argmax(scores)\n",
    "            confidence = scores[classId]\n",
    "            if classId in required_class_index:\n",
    "                if confidence > confThreshold:\n",
    "                    # print(classId)\n",
    "                    w,h = int(det[2]*width) , int(det[3]*height)\n",
    "                    x,y = int((det[0]*width)-w/2) , int((det[1]*height)-h/2)\n",
    "                    boxes.append([x,y,w,h])\n",
    "                    classIds.append(classId)\n",
    "                    confidence_scores.append(float(confidence))\n",
    "\n",
    "    # Apply Non-Max Suppression\n",
    "    indices = cv2.dnn.NMSBoxes(boxes, confidence_scores, confThreshold, nmsThreshold)\n",
    "    # print(classIds)\n",
    "    for i in indices.flatten():\n",
    "        x, y, w, h = boxes[i][0], boxes[i][1], boxes[i][2], boxes[i][3]\n",
    "        # print(x,y,w,h)\n",
    "\n",
    "        color = [int(c) for c in colors[classIds[i]]]\n",
    "        name = classNames[classIds[i]]\n",
    "        detected_classNames.append(name)\n",
    "\n",
    "        # Draw classname and confidence score \n",
    "        cv2.putText(img,f'{name.upper()} {int(confidence_scores[i]*100)}%',\n",
    "                  (x, y-10), cv2.FONT_HERSHEY_SIMPLEX, 0.5, color, 1)\n",
    "\n",
    "        # Draw bounding rectangle\n",
    "        cv2.rectangle(img, (x, y), (x + w, y + h), color, 1)\n",
    "        detection.append([x, y, w, h, required_class_index.index(classIds[i])])\n",
    "\n",
    "    # Update the tracker for each object\n",
    "    boxes_ids = tracker.update(detection)\n",
    "    for box_id in boxes_ids:\n",
    "        count_vehicle(box_id, img)\n"
   ]
  },
  {
   "cell_type": "code",
   "execution_count": 16,
   "id": "5e3f104e",
   "metadata": {},
   "outputs": [],
   "source": [
    "def realTime():\n",
    "    while cap.isOpened():\n",
    "        success, img = cap.read()\n",
    "        if not success:\n",
    "            break\n",
    "        \n",
    "        img = cv2.resize(img,(0,0),None,0.5,0.5)\n",
    "        ih, iw, channels = img.shape\n",
    "        blob = cv2.dnn.blobFromImage(img, 1 / 255, (input_size, input_size), [0, 0, 0], 1, crop=False)\n",
    "\n",
    "        # Set the input of the network\n",
    "        net.setInput(blob)\n",
    "        layersNames = net.getLayerNames()\n",
    "        outputNames = [(layersNames[i - 1]) for i in net.getUnconnectedOutLayers()]\n",
    "        # Feed data to the network\n",
    "        outputs = net.forward(outputNames)\n",
    "    \n",
    "        # Find the objects from the network output\n",
    "        postProcess(outputs,img)\n",
    "\n",
    "        # count the frequency of detected classes\n",
    "        frequency = collections.Counter(detected_classNames)\n",
    "        #print(frequency)\n",
    "\n",
    "        # Draw the crossing lines\n",
    "\n",
    "        cv2.line(img, (0, middle_line_position), (iw, middle_line_position), (255, 0, 255), 2)\n",
    "        cv2.line(img, (0, up_line_position), (iw, up_line_position), (0, 0, 255), 2)\n",
    "        cv2.line(img, (0, down_line_position), (iw, down_line_position), (0, 0, 255), 2)\n",
    "\n",
    "        # Draw counting texts in the frame\n",
    "        cv2.putText(img, \"Up\", (110, 20), cv2.FONT_HERSHEY_SIMPLEX, font_size, font_color, font_thickness)\n",
    "        cv2.putText(img, \"Down\", (160, 20), cv2.FONT_HERSHEY_SIMPLEX, font_size, font_color, font_thickness)\n",
    "        cv2.putText(img, \"Car:        \"+str(up_list[0])+\"     \"+ str(down_list[0]), (20, 40), cv2.FONT_HERSHEY_SIMPLEX, font_size, font_color, font_thickness)\n",
    "        cv2.putText(img, \"Motorbike:  \"+str(up_list[1])+\"     \"+ str(down_list[1]), (20, 60), cv2.FONT_HERSHEY_SIMPLEX, font_size, font_color, font_thickness)\n",
    "        cv2.putText(img, \"Bus:        \"+str(up_list[2])+\"     \"+ str(down_list[2]), (20, 80), cv2.FONT_HERSHEY_SIMPLEX, font_size, font_color, font_thickness)\n",
    "        cv2.putText(img, \"Truck:      \"+str(up_list[3])+\"     \"+ str(down_list[3]), (20, 100), cv2.FONT_HERSHEY_SIMPLEX, font_size, font_color, font_thickness)\n",
    "\n",
    "        # Show the frames\n",
    "        cv2.imshow('Output', img)\n",
    "\n",
    "        if cv2.waitKey(1) == ord('q'):\n",
    "            break\n",
    "        # detected_classNames.clear()\n",
    "\n",
    "    # Write the vehicle counting information in a file and save it\n",
    "\n",
    "    with open(\"data.csv\", 'w') as f1:\n",
    "        cwriter = csv.writer(f1)\n",
    "        cwriter.writerow(['Direction', 'car', 'motorbike', 'bus', 'truck'])\n",
    "        up_list.insert(0, \"Up\")\n",
    "        down_list.insert(0, \"Down\")\n",
    "        cwriter.writerow(up_list)\n",
    "        cwriter.writerow(down_list)\n",
    "    f1.close()\n",
    "    print(\"Data saved at 'data.csv'\")\n",
    "    \n",
    "    # Finally release the capture object and destroy all active windows\n",
    "    cap.release()\n",
    "    cv2.destroyAllWindows()\n"
   ]
  },
  {
   "cell_type": "code",
   "execution_count": 17,
   "id": "c34479dd",
   "metadata": {},
   "outputs": [
    {
     "name": "stdout",
     "output_type": "stream",
     "text": [
      "Data saved at 'data.csv'\n"
     ]
    }
   ],
   "source": [
    "\n",
    "if __name__ == '__main__':\n",
    "    realTime()\n",
    "   "
   ]
  }
 ],
 "metadata": {
  "kernelspec": {
   "display_name": "Python 3 (ipykernel)",
   "language": "python",
   "name": "python3"
  },
  "language_info": {
   "codemirror_mode": {
    "name": "ipython",
    "version": 3
   },
   "file_extension": ".py",
   "mimetype": "text/x-python",
   "name": "python",
   "nbconvert_exporter": "python",
   "pygments_lexer": "ipython3",
   "version": "3.10.2"
  }
 },
 "nbformat": 4,
 "nbformat_minor": 5
}
